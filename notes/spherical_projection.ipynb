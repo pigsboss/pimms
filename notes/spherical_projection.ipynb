{
 "cells": [
  {
   "cell_type": "code",
   "execution_count": 1,
   "id": "a04f123c-b928-4d0c-9da9-05437fe8eb75",
   "metadata": {},
   "outputs": [],
   "source": [
    "from sympy import *"
   ]
  },
  {
   "cell_type": "code",
   "execution_count": 33,
   "id": "5600799b-9db6-4eae-a1c5-7c8b600c4826",
   "metadata": {},
   "outputs": [],
   "source": [
    "L=Symbol('L',positive=True)\n",
    "R=Symbol('R',positive=True)\n",
    "theta=Symbol('theta',positive=True)\n",
    "phi=Symbol('phi',real=True)\n",
    "r=Symbol('r',positive=True)"
   ]
  },
  {
   "cell_type": "code",
   "execution_count": 145,
   "id": "838b3483-0f18-472e-99f4-7fa6f87a2d88",
   "metadata": {},
   "outputs": [
    {
     "data": {
      "text/latex": [
       "$\\displaystyle - \\frac{2 \\pi L}{\\sqrt{L^{2} + R^{2}}} + 2 \\pi$"
      ],
      "text/plain": [
       "-2*pi*L/sqrt(L**2 + R**2) + 2*pi"
      ]
     },
     "execution_count": 145,
     "metadata": {},
     "output_type": "execute_result"
    }
   ],
   "source": [
    "integrate((L*r*cos(theta)/Pow(L**Integer(2)+r**Integer(2)-Integer(2)*L*r*sin(theta)*sin(phi),Rational(3,2))).subs(theta,0.00),(phi,0,2*pi),(r,0,R))"
   ]
  },
  {
   "cell_type": "code",
   "execution_count": 105,
   "id": "b2e975ae-d715-47af-a670-4cca4e84e30e",
   "metadata": {},
   "outputs": [
    {
     "data": {
      "text/plain": [
       "[pi/2, 3*pi/2, pi - asin(r/(L*sin(theta))), asin(r/(L*sin(theta)))]"
      ]
     },
     "execution_count": 105,
     "metadata": {},
     "output_type": "execute_result"
    }
   ],
   "source": [
    "cos_alpha=((L-r*sin(theta)*sin(phi))/sqrt(L**2+r**2-2*L*r*sin(theta)*sin(phi)))\n",
    "solve(simplify(diff(cos_alpha, phi)),phi)"
   ]
  },
  {
   "cell_type": "code",
   "execution_count": 126,
   "id": "c92844f5-bfc8-4b9f-9b15-f04735bb2f4f",
   "metadata": {},
   "outputs": [
    {
     "data": {
      "text/latex": [
       "$\\displaystyle \\frac{L - r \\sin{\\left(\\theta \\right)}}{\\sqrt{L^{2} - 2 L r \\sin{\\left(\\theta \\right)} + r^{2}}}$"
      ],
      "text/plain": [
       "(L - r*sin(theta))/sqrt(L**2 - 2*L*r*sin(theta) + r**2)"
      ]
     },
     "execution_count": 126,
     "metadata": {},
     "output_type": "execute_result"
    }
   ],
   "source": [
    "cos_alpha.subs(phi,pi/2)"
   ]
  },
  {
   "cell_type": "code",
   "execution_count": 110,
   "id": "e7b97716-b013-479d-8296-399062014601",
   "metadata": {},
   "outputs": [
    {
     "data": {
      "text/latex": [
       "$\\displaystyle \\frac{L - \\frac{r^{2}}{L}}{\\sqrt{L^{2} - r^{2}}}$"
      ],
      "text/plain": [
       "(L - r**2/L)/sqrt(L**2 - r**2)"
      ]
     },
     "execution_count": 110,
     "metadata": {},
     "output_type": "execute_result"
    }
   ],
   "source": [
    "cos_alpha.subs(phi,asin(r/L/sin(theta)))"
   ]
  },
  {
   "cell_type": "code",
   "execution_count": 154,
   "id": "2db623e9-376e-4434-a343-32941cddaa8b",
   "metadata": {},
   "outputs": [
    {
     "data": {
      "image/png": "[encoded data removed]",
      "text/plain": [
       "<Figure size 432x288 with 1 Axes>"
      ]
     },
     "metadata": {
      "needs_background": "light"
     },
     "output_type": "display_data"
    },
    {
     "data": {
      "text/plain": [
       "<sympy.plotting.plot.Plot at 0x1360b7f50>"
      ]
     },
     "execution_count": 154,
     "metadata": {},
     "output_type": "execute_result"
    }
   ],
   "source": [
    "plot(acos(cos_alpha.subs(L,r*4).subs(r,1).subs(theta,asin(1/4)+1e-1)),adaptive=False,nb_of_points=100000,xlim=(np.pi/6,5*np.pi/6))"
   ]
  },
  {
   "cell_type": "code",
   "execution_count": 146,
   "id": "b8880577-e427-4a58-ba5a-e7bf43805e1b",
   "metadata": {},
   "outputs": [
    {
     "data": {
      "text/latex": [
       "$\\displaystyle - \\frac{L}{\\sqrt{L^{2} + R^{2}}} + 1$"
      ],
      "text/plain": [
       "-L/sqrt(L**2 + R**2) + 1"
      ]
     },
     "execution_count": 146,
     "metadata": {},
     "output_type": "execute_result"
    }
   ],
   "source": [
    "integrate(L*r/Pow(L**2+r**2,Rational(3,2)),(r,0,R))"
   ]
  },
  {
   "cell_type": "code",
   "execution_count": 149,
   "id": "e189ceb5-b982-462d-a433-23265f67c5ab",
   "metadata": {},
   "outputs": [
    {
     "data": {
      "text/latex": [
       "$\\displaystyle L \\sqrt{-1 + \\frac{1}{\\left(r \\cos{\\left(\\theta \\right)} - r + 1\\right)^{2}}}$"
      ],
      "text/plain": [
       "L*sqrt(-1 + (r*cos(theta) - r + 1)**(-2))"
      ]
     },
     "execution_count": 149,
     "metadata": {},
     "output_type": "execute_result"
    }
   ],
   "source": [
    "simplify(sqrt(L**2/Pow(1-(1-cos(theta))*r,Integer(2))-L**2))"
   ]
  },
  {
   "cell_type": "code",
   "execution_count": null,
   "id": "2c8e116e-2669-4e5c-b0fe-062af8e033f2",
   "metadata": {},
   "outputs": [],
   "source": []
  }
 ],
 "metadata": {
  "kernelspec": {
   "display_name": "Python 3 (ipykernel)",
   "language": "python",
   "name": "python3"
  },
  "language_info": {
   "codemirror_mode": {
    "name": "ipython",
    "version": 3
   },
   "file_extension": ".py",
   "mimetype": "text/x-python",
   "name": "python",
   "nbconvert_exporter": "python",
   "pygments_lexer": "ipython3",
   "version": "3.7.9"
  }
 },
 "nbformat": 4,
 "nbformat_minor": 5
}
